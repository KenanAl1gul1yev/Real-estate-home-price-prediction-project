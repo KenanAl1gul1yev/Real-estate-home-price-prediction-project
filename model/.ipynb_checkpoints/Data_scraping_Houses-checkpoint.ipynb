{
 "cells": [
  {
   "cell_type": "code",
   "execution_count": 1,
   "id": "b924836c",
   "metadata": {},
   "outputs": [],
   "source": [
    "from bs4 import BeautifulSoup\n",
    "import requests\n",
    "\n",
    "import pandas as pd\n",
    "import sqlalchemy\n",
    "\n",
    "Server = \"localhost\"\n",
    "Database = \"Homeprices_Baku\"\n",
    "Driver = \"ODBC Driver 17 for SQL Server\" # in order to get this info, click Win + S and write 'odbc', then open drivers menu and scroll down\n",
    "engine = sqlalchemy.create_engine(f'mssql://@{Server}/{Database}?driver={Driver}')"
   ]
  },
  {
   "cell_type": "code",
   "execution_count": null,
   "id": "37cb24b0",
   "metadata": {
    "scrolled": true
   },
   "outputs": [],
   "source": [
    "baseurl = 'https://bina.az'\n",
    "headers = {\n",
    "    'User-Agent' : 'Mozilla/5.0 (Windows NT 10.0; Win64; x64) AppleWebKit/537.36 (KHTML, like Gecko) Chrome/122.0.0.0 Safari/537.36',\n",
    "}\n",
    "\n",
    "for p in range(358, 471):\n",
    "    r = requests.get(f'https://bina.az/alqi-satqi/heyet-evleri?page={p}', headers = headers)\n",
    "    soup = BeautifulSoup(r.content, 'lxml')\n",
    "    productlist = soup.find_all('div', class_ = 'items-i')\n",
    "    \n",
    "    productlinks = []\n",
    "    \n",
    "    products = {\n",
    "    'Location' : [],\n",
    "    'Rooms' : [],\n",
    "    'Area' : [],\n",
    "    'GroundArea' : [],\n",
    "    'Price' : []\n",
    "    }\n",
    "    \n",
    "    for item in productlist:\n",
    "        links = item.find_all('a', class_ = 'item_link', href = True)\n",
    "        productlinks.append(baseurl + links[0]['href'])\n",
    "        \n",
    "    for link in productlinks:\n",
    "        r = requests.get(link, headers = headers)\n",
    "        soup = BeautifulSoup(r.content, 'lxml')\n",
    "        properties = soup.find_all('div', class_ = 'product-properties__i')\n",
    "        \n",
    "        price_text = soup.find('span', class_ = 'price-val').get_text(strip = True)\n",
    "        products['Price'].append(\"\".join(price_text.split()))\n",
    "        \n",
    "        loc_text_ul = soup.find('ul', class_ = 'product-extras').get_text(strip = True)\n",
    "        try:\n",
    "            loc_text = soup.find_all('li', class_ = 'product-extras__i')[-1].get_text(strip = True)\n",
    "        except:\n",
    "            loc_text = 'null'\n",
    "        products['Location'].append(loc_text)\n",
    "        \n",
    "        labels = {}        \n",
    "        for property in properties:\n",
    "            lbl = property.find('label', class_ = 'product-properties__i-name').get_text(strip = True)\n",
    "            spn = property.find('span', class_ = 'product-properties__i-value').get_text(strip = True)\n",
    "            labels[lbl] = spn\n",
    "            \n",
    "        products['Area'].append(float(\"\".join(labels.get('Sahə', '0').split()[0])))\n",
    "        products['Rooms'].append(int(\"\".join(labels.get('Otaq sayı', '0'))))\n",
    "        products['GroundArea'].append(float(\"\".join(labels.get('Torpaq sahəsi', '0').split()[0])))\n",
    "                                \n",
    "    df = pd.DataFrame(products)\n",
    "    df.to_sql(\n",
    "        name = 'Houses',\n",
    "        con = engine,\n",
    "        index = False,\n",
    "        if_exists = \"append\",\n",
    "        dtype={'Location': sqlalchemy.types.Unicode}\n",
    "    )\n",
    "    print(\"ADDED PAGE_\", p)"
   ]
  },
  {
   "cell_type": "code",
   "execution_count": null,
   "id": "c359c173",
   "metadata": {},
   "outputs": [],
   "source": []
  },
  {
   "cell_type": "code",
   "execution_count": null,
   "id": "7e421bc1",
   "metadata": {},
   "outputs": [],
   "source": []
  }
 ],
 "metadata": {
  "kernelspec": {
   "display_name": "Python 3 (ipykernel)",
   "language": "python",
   "name": "python3"
  },
  "language_info": {
   "codemirror_mode": {
    "name": "ipython",
    "version": 3
   },
   "file_extension": ".py",
   "mimetype": "text/x-python",
   "name": "python",
   "nbconvert_exporter": "python",
   "pygments_lexer": "ipython3",
   "version": "3.11.5"
  }
 },
 "nbformat": 4,
 "nbformat_minor": 5
}
